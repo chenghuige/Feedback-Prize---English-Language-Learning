{
 "cells": [
  {
   "cell_type": "code",
   "execution_count": 17,
   "metadata": {},
   "outputs": [],
   "source": [
    "import sys\n",
    "sys.path.append('..')\n",
    "sys.path.append('../../../../utils')\n",
    "sys.path.append('../../../../third')\n",
    "from gezi.common import *\n",
    "from src.config import *\n",
    "from src.preprocess import *\n",
    "from src.postprocess import *\n",
    "from src.eval import *\n",
    "gezi.init_flags()"
   ]
  },
  {
   "cell_type": "code",
   "execution_count": 18,
   "metadata": {},
   "outputs": [
    {
     "data": {
      "text/plain": [
       "20"
      ]
     },
     "execution_count": 18,
     "metadata": {},
     "output_type": "execute_result"
    }
   ],
   "source": [
    "\n",
    "V = 16\n",
    "models = [\n",
    "  'deberta-v3-base.len1280.flag-encode_targets-cls-crank.lr-5e-5',\n",
    "  'deberta-v3-base.len1280.flag-encode_targets-cls-crank.lr-5e-5.a',\n",
    "  'deberta-v3-base.len1280.flag-encode_targets-cls.lr-5e-5',\n",
    "  'deberta-v3.len1280.flag-encode_targets-cls-crank',\n",
    "  'deberta-v3.len1280.flag-encode_targets-cls-crank.ft2',\n",
    "  'deberta-v3.len1280.flag-encode_targets-cls',\n",
    "  'deberta-v3.len1280.flag-encode_targets-cls-crank.pre-trans-nl',\n",
    "  'deberta-v3.len1280.flag-encode_targets-cls-crank.pre-trans-fr',\n",
    "  'deberta-v3.len1280.flag-encode_targets-cls-crank.pre-trans-de',\n",
    "  'deberta-v3.len1280.flag-encode_targets-cls-crank.pre-trans-pt',\n",
    "  'deberta-v3.len1280.flag-encode_targets-cls-crank.pre-trans-af',\n",
    "  'deberta-v3.len1280.flag-encode_targets-cls-crank.pre-trans-cn',\n",
    "  'deberta-v3.len1280.flag-encode_targets-cls-crank.pre-trans-ru',\n",
    "  'deberta-v3.len1280.flag-encode_targets-cls-crank.pre-trans-fi',\n",
    "  'deberta-v3.len1280.flag-encode_targets-cls-crank.pre-trans-sv',\n",
    "  'deberta-v3.len1280.flag-encode_targets-cls-crank.pre-trans-ja',\n",
    "  'deberta-v3.len1280.flag-encode_targets-cls-crank.pre-trans-ko',\n",
    "  'deberta-v3.len1280.flag-encode_targets-cls-crank.pre-trans-el',\n",
    "  'deberta-v3.len1280.flag-encode_targets-cls-crank.pre-trans-hr',\n",
    "  'deberta-v3.len1280.flag-encode_targets-cls-crank.pre-trans-cy',\n",
    "  \n",
    "  # 'deberta-v3.len1280.flag-encode_targets-cls-crank.pre-trans-cs',\n",
    "  # 'deberta-v3.len1280.flag-encode_targets-cls-crank.pre-trans-be',\n",
    "  # 'deberta-v3.len1280.flag-encode_targets-cls-crank.pre-trans-ar',\n",
    "  # 'deberta-v3.len1280.flag-encode_targets-cls-crank.pre-trans-es',\n",
    "  # 'deberta-v3.len1280.flag-encode_targets-cls-crank.pre-trans-it',\n",
    "  # 'deberta-v3.len1280.flag-encode_targets-cls-crank.pre-trans-da',\n",
    "]\n",
    "len(models)"
   ]
  },
  {
   "cell_type": "code",
   "execution_count": 19,
   "metadata": {},
   "outputs": [],
   "source": [
    "oofs = [gezi.read_oof(model, V, return_dict=False) for model in models]"
   ]
  },
  {
   "cell_type": "code",
   "execution_count": 20,
   "metadata": {},
   "outputs": [],
   "source": [
    "# svr_oof = oofs[0].copy()"
   ]
  },
  {
   "cell_type": "code",
   "execution_count": 21,
   "metadata": {},
   "outputs": [],
   "source": [
    "# svr_pred = np.load('../working/svr.npy')\n",
    "# svr_oof['pred'] = svr_pred"
   ]
  },
  {
   "cell_type": "code",
   "execution_count": 22,
   "metadata": {},
   "outputs": [],
   "source": [
    "ensembler = gezi.Ensembler(includes=['pred'], inplace=False)\n",
    "# ensembler.add(oof, weight=np.array([1,1,1,1,1,1], float))\n",
    "# ensembler.add(oof2, weight=np.array([1,1,1,1,1,1], float))\n",
    "for i, oof in enumerate(oofs):\n",
    "  if i < 1:\n",
    "    ensembler.add(oof, weight=np.array([1,1,1,1,1,1], float))\n",
    "  elif i < 2: \n",
    "    ensembler.add(oof, weight=np.array([1,1,10,1,1,1], float) * 2)\n",
    "  elif i < 3: \n",
    "    ensembler.add(oof, weight=np.array([1,1,1,1,1,1], float) * 0.25)\n",
    "  elif i < 4: \n",
    "    ensembler.add(oof, weight=np.array([1,1,1,1,1,1], float))\n",
    "  elif i < 5: \n",
    "    ensembler.add(oof, weight=np.array([2,1,10,1,1,2], float) * 2)\n",
    "  elif i < 6: \n",
    "    ensembler.add(oof, weight=np.array([1,1,1,1,10,1], float) * 0.25)\n",
    "  else:\n",
    "    ensembler.add(oof, weight=np.array([1,1,10,1,0.25,0.25], float) * 0.8)\n",
    "\n",
    "x = ensembler.finalize()\n",
    "# ensembler2 = gezi.Ensembler(includes=['pred'], inplace=False)\n",
    "# ensembler2.add(x, weight=np.array([1,1,1,1,1,1], float))\n",
    "# # ensembler2.add(svr_oof, weight=np.array([1,1,1,1,1,1], float))\n",
    "# x = ensembler2.finalize()"
   ]
  },
  {
   "cell_type": "code",
   "execution_count": 23,
   "metadata": {},
   "outputs": [],
   "source": [
    "x['label'] = x.label.apply(list)\n",
    "x['pred'] = x.pred.apply(list)"
   ]
  },
  {
   "cell_type": "code",
   "execution_count": 24,
   "metadata": {},
   "outputs": [
    {
     "data": {
      "text/plain": [
       "OrderedDict([('score', 0.44537770120000864),\n",
       "             ('score/cohesion', 0.47153674423968944),\n",
       "             ('score/syntax', 0.44014063297252803),\n",
       "             ('score/vocabulary', 0.40868767999126343),\n",
       "             ('score/phraseology', 0.4512027723846157),\n",
       "             ('score/grammar', 0.46323457415062086),\n",
       "             ('score/conventions', 0.4374638034613347),\n",
       "             ('score/cls', 0.4673957594647542),\n",
       "             ('acc', 0.4254240177277764),\n",
       "             ('acc/cohesion', 0.3891587829199693),\n",
       "             ('acc/syntax', 0.42674507798517003),\n",
       "             ('acc/vocabulary', 0.4627972385579136),\n",
       "             ('acc/phraseology', 0.4229097417540271),\n",
       "             ('acc/grammar', 0.414983380209665),\n",
       "             ('acc/conventions', 0.43594988493991305),\n",
       "             ('score/max', 0.5661407472757343),\n",
       "             ('acc/max', 0.28713883917156735),\n",
       "             ('score/min', 0.3729002606165341),\n",
       "             ('acc/min', 0.4952697519815904),\n",
       "             ('score/max2', 0.4454176330453358),\n",
       "             ('score/min2', 0.44492961317867485),\n",
       "             ('count', 3911)])"
      ]
     },
     "execution_count": 24,
     "metadata": {},
     "output_type": "execute_result"
    }
   ],
   "source": [
    "calc_metrics(np.array(list(x.label.values)), np.array(list(x.pred.values)))"
   ]
  },
  {
   "cell_type": "code",
   "execution_count": null,
   "metadata": {},
   "outputs": [],
   "source": []
  },
  {
   "cell_type": "code",
   "execution_count": null,
   "metadata": {},
   "outputs": [],
   "source": []
  }
 ],
 "metadata": {
  "kernelspec": {
   "display_name": "Python 3.7.9",
   "language": "python",
   "name": "python3"
  },
  "language_info": {
   "codemirror_mode": {
    "name": "ipython",
    "version": 3
   },
   "file_extension": ".py",
   "mimetype": "text/x-python",
   "name": "python",
   "nbconvert_exporter": "python",
   "pygments_lexer": "ipython3",
   "version": "3.7.9"
  },
  "orig_nbformat": 4,
  "vscode": {
   "interpreter": {
    "hash": "1925003cfa3979ae366740114cfe890bf8d7ad5b88e4afe0ec571fe261ed45e3"
   }
  }
 },
 "nbformat": 4,
 "nbformat_minor": 2
}
